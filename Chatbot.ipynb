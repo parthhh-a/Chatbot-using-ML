{
  "cells": [
    {
      "cell_type": "markdown",
      "metadata": {
        "id": "view-in-github",
        "colab_type": "text"
      },
      "source": [
        "<a href=\"https://colab.research.google.com/github/parthhh-a/Chatbot-using-ML/blob/main/Chatbot.ipynb\" target=\"_parent\"><img src=\"https://colab.research.google.com/assets/colab-badge.svg\" alt=\"Open In Colab\"/></a>"
      ]
    },
    {
      "cell_type": "code",
      "execution_count": null,
      "metadata": {
        "id": "B4daK0y_b_MM"
      },
      "outputs": [],
      "source": [
        ""
      ]
    },
    {
      "cell_type": "code",
      "execution_count": null,
      "metadata": {
        "id": "oNQE2Dw1RDYa"
      },
      "outputs": [],
      "source": [
        "#importing the libraries\n",
        "import tensorflow as tf\n",
        "import numpy as np\n",
        "import pandas as pd\n",
        "import json\n",
        "import nltk\n",
        "from tensorflow.keras.preprocessing.text import Tokenizer\n",
        "from tensorflow.keras.layers import Input , Embedding , LSTM , Dense , GlobalMaxPooling1D , Flatten\n",
        "from tensorflow.keras.models import Model \n",
        "import matplotlib.pyplot as plt"
      ]
    },
    {
      "cell_type": "code",
      "execution_count": null,
      "metadata": {
        "id": "QvSvBiSIT8E9"
      },
      "outputs": [],
      "source": [
        "%%writefile content.json\n",
        "{\"intents\": [\n",
        "    {\"tag\": \"greeting\",\n",
        "     \"patterns\": [\"Hi there\", \"Hello\", \"Hola\",\"Hey\",\"Hi\", \"Hello\", \"Good morning\",\"Good Evening\"],\n",
        "     \"responses\": [\"Hello, Welcome to Parth's IT support Chatbot\", \"Good to see you, Welcome to my Chatbot\", \"Hi there, how can I help?\"],\n",
        "     \"context\": [\"\"]\n",
        "    },\n",
        "    {\"tag\": \"goodbye\",\n",
        "     \"patterns\": [\"Bye\", \"See you later\", \"Goodbye\", \"Nice chatting to you, bye\", \"Till next time\",\"Bye Chatbot\"],\n",
        "     \"responses\": [\"See you!\", \"Have a nice day\", \"Bye! Come back again soon.\",\"Happy to help\"],\n",
        "     \"context\": [\"\"]\n",
        "    },\n",
        "    {\"tag\": \"thanks\",\n",
        "     \"patterns\": [\"Thanks\", \"Thank you\", \"That's helpful\", \"Awesome, thanks\", \"Thanks for helping me\"],\n",
        "     \"responses\": [\"Happy to help! Any other issues?\", \"Any time! Any other issues I can help with?\", \"My pleasure! Any other Issues I can help with?\"],\n",
        "     \"context\": [\"\"]\n",
        "    },\n",
        "    {\"tag\": \"noanswer\",\n",
        "     \"patterns\": [\"q\",\"random\"],\n",
        "     \"responses\": [\"Sorry, can't understand you\", \"Please give me more info\", \"Not sure I understand\"],\n",
        "     \"context\": [\"\"]\n",
        "    },\n",
        "    {\"tag\": \"options\",\n",
        "     \"patterns\": [\"How you could help me?\", \"What you can do?\", \"What help you provide?\", \"How you can be helpful?\", \"What support is offered\",\"What services do you provide?\",\"What can you help me with\"],\n",
        "     \"responses\": [\"I can guide you through\\n 1)Password Reset\\n2) Trouble-Shooting issues\\n3) Virus Issues\\n4) Printing Issues\\n5) many more IT issues\", \"Offering support for \\n1) Password Reset\\n2) Trouble-Shooting issues\\n3) Virus Issues\\n4) Printer issues\\n5) Other IT tasks\"],\n",
        "     \"context\": [\"\"]\n",
        "    },\n",
        "    {\"tag\": \"Password Reset\",\n",
        "     \"patterns\": [\"How to reset my password?\",\"I’m unable to log in!\",\"My Password is Lost, need to Reset.\",\"Open password reset module\", \"Reset my password\", \"Forgot password\", \"how do i reset my password?\",\"Hi,I have problem with my password\",\"Problem with Login ID\" ],\n",
        "     \"responses\": [\"Confirm your email address\"],\n",
        "     \"context_set\": [\"email\"]\n",
        "    },\n",
        "    {\"tag\": \"E-mail id\",\n",
        "     \"patterns\": [\"@gmail.com\", \"@outlook.com\", \"@yahoo.com\", \"@hotmail.in\"],\n",
        "     \"responses\": [\"The reset pin has been sent on your registered mobile number\"],\n",
        "     \"context_filter\": [\"email\"]\n",
        "    },\n",
        "    \n",
        "    {\"tag\": \"Blue Sreen issue\",\n",
        "     \"patterns\": [\"I’ve got the dreaded blue screen of death!\",\"blue screen issue\"],\n",
        "     \"responses\": [\"This problem is usually related to hardware or a driver that is not working correctly. It usually happens after you install a new piece of hardware or update some drivers.\"],\n",
        "     \"context\": [\"\"]\n",
        "    },\n",
        "    {\"tag\": \"Deleted files\",\n",
        "     \"patterns\": [\"I deleted some important files!\", \"Find my deleted files\", \"removed neccesary files\",\"I by mistake deleted my folders\",\"Can you help me with deleted files issue\",\"I am unable to find my files\"],\n",
        "     \"responses\": [\"The first step is to check the recycle bin. If that fails, you can contact your IT Support partner.\"],\n",
        "     \"context\": [\"search_pharmacy_by_name\"]\n",
        "    },\n",
        "    {\"tag\": \"Unsaved Document\",\n",
        "     \"patterns\": [\"I just closed my document without saving!\",\"Unsaved Document\",\"Forgot to save my work\"],\n",
        "     \"responses\": [\"However, all your work is not definitely lost. If you have Auto-Recover options enabled in Microsoft Office, then there are some easy steps to recover your work.\\nIf not, you can also search for Word backup files by clicking “open”, “computer” and then browsing to the folder where the file was last saved.\\nYou may also be able to find your file by performing a search on your computer for temporary files with a .tmp file extension or a ~ prefix.\"],\n",
        "     \"context\": [\"\"]\n",
        "    },\n",
        "    {\"tag\": \"Slow Computer\",\n",
        "     \"patterns\": [\"Slow Computer\", \"My computer is running too slowly!\", \"Computer is not fast\"],\n",
        "     \"responses\": [\"Here are my 10 quick tips for things you can do to speed up your PC\\n1. Cut down on start-up items\\n2. Uninstall programs you no longer use\\n3. Clean up your hard drive\\n4. Clean your browser\\n5. Scan for and remove malware\\n6. Adjust for better performance\\n7. Defrag your hard drive\\n8. Add more RAM.\\n9. Upgrade to an SSD drive\\n10. Don’t shut down, use Hibernate \"],\n",
        "     \"context\": [\"\"]\n",
        "    },\n",
        "    {\"tag\": \"Unexpected Shut Down\",\n",
        "     \"patterns\": [\"My computer just shut down unexpectedly!\",\"computer shut down unexpected\",\"Computer keeps shutting down\",\"computer shutdown\",\"pc shutdown\"],\n",
        "     \"responses\": [\"This could be related to overheating. Check your computer for dust, and make sure it is in a cool and ventilated place. If this is not the issue, then it is likely a virus problem. Disconnect the PC from any networks and call your IT Support experts!\"],\n",
        "     \"context\": [\"search_hospital_by_type\"]\n",
        "    },\n",
        "    {\"tag\": \"Printing issues\",\n",
        "     \"patterns\": [\"I can’t print anything!\",\"Printing issue\",\"My printer isn’t printing\",\"Can’t seem to use my department’s printer\"],\n",
        "     \"responses\": [\"Check the printer is turned on, has paper, has ink/toner, paper in the correct tray etc.\"],\n",
        "     \"context\": [\"\"]\n",
        "    },\n",
        "    {\"tag\": \"Vague\",\n",
        "     \"patterns\": [\"Nothing works\",\"I have issues\",\"I need Help\",\"I have problems\"],\n",
        "     \"responses\": [\"Hey, I cant seems that you have not listed you Issue here.\\n I can help you out with the following issues: \\n 1)Password Reset\\n 2) Trouble-Shooting issues\\n 3) Virus Issues \\n 4)Printing Issues and many more IT issues\"],\n",
        "     \"context\": [\"\"]\n",
        "    },\n",
        "    {\"tag\": \"Virus\",\n",
        "     \"patterns\": [\"I have virus in my laptop\",\"Virus issues\",\"Computer has a virus\",\"I have problems\"],\n",
        "     \"responses\": [\"A detailed step by step guide to remove the virus from the computer has been provided on the following link: \\nhttps://www.easeus.com/file-recovery/remove-virus-without-antivirus.html \\nand\\nhttps://www.pcworld.com/article/243818/how-to-remove-malware-from-your-windows-pc.html\\nIf the issues are still there, consult the IT team\"],\n",
        "     \"context\": [\"\"]\n",
        "    },\n",
        "    {\"tag\": \"Mouse\",\n",
        "     \"patterns\": [\"My Mouse is not working\",\"The mouse is dead\",\"Bluetooth mouse not working\",\"Mouse issues\",\"trackpad not working\",\"I need help with trackpad problems\"],\n",
        "     \"responses\": [\"a) If you encounter a mouse problem, you should first try these options:\\n1) If it is a first-time issue, restarting your PC can resolve the issue instantly.\\n2) Confirm that the mouse or the wireless adaptor is firmly connected to the PC.\\n3) You may also try to unplug the mouse cable or the wireless adaptor and reconnect using a different port.\\n4)Check the mouse and the ports for damages and even try the mouse on a different computer.\\n4 If none of these solves the problem, you can now proceed to other solutions.\\nb) Troubleshoot Hardware and Devices\\nc) Updating Incompatible Mouse Drivers\\nd) Roll Back or Reinstall Mouse Drivers\\ne) Deactivate Enhanced Pointer Precision\\nf) Adjusting the Mouse Sensitivity\\ng) Configure Touchpad Delay\\nh) Disable Touchpad\"],\n",
        "     \"context\": [\"\"]\n",
        "    },\n",
        "    {\"tag\": \"USB\",\n",
        "     \"patterns\": [\"My computer does not recognise my USB device!\",\"Okay so i need help with pendrive\",\"USB issues\",\"Pendrive issues\",\"pendrive is not detected\"],\n",
        "     \"responses\": [\"First things to check are:\\n1) Does the device work in a different USB port on the machine?\\n2) Are other devices recognised in that port?\\n3) Does the device work on another user’s machine?\\n If you have tried these troubleshooting methods and still no luck, then your IT support help-desk can proceed with some more in-depth troubleshooting.\"],\n",
        "     \"context\": [\"\"]\n",
        "    },\n",
        "    {\"tag\": \"Slow Internet\",\n",
        "     \"patterns\": [\"My internet is really slow!\",\"slow internet\",\"Cannot connect to Internet\",\"Internet is not fast\",\"My Wi-Fi keeps dropping\"],\n",
        "     \"responses\": [\"If you're connecting wirelessly, then the location may be the problem. The signal is not necessarily strong in all corners of the building. Similarly, you could just be too far away. If this is not the issue, then spyware or viruses are a likely cause.\"],\n",
        "     \"context\": [\"\"]\n",
        "    }\n",
        "    \n",
        "]\n",
        "}"
      ]
    },
    {
      "cell_type": "code",
      "execution_count": null,
      "metadata": {
        "id": "9w7rUzQWNy9W"
      },
      "outputs": [],
      "source": [
        "#import the dataset\n",
        "with open('content.json') as content:\n",
        "  data1 = json.load(content)"
      ]
    },
    {
      "cell_type": "code",
      "execution_count": null,
      "metadata": {
        "id": "9v4pa8QbOYr7"
      },
      "outputs": [],
      "source": [
        "#getting all the data to list\n",
        "tags = []\n",
        "inputs = []\n",
        "responses = {}\n",
        "for intent in data1['intents']:\n",
        "  responses [intent['tag']]=intent['responses']\n",
        "  for lines in intent['patterns']: \n",
        "    inputs.append(lines)\n",
        "    tags.append(intent['tag'])"
      ]
    },
    {
      "cell_type": "code",
      "execution_count": null,
      "metadata": {
        "id": "qvS-6RPPTKPm"
      },
      "outputs": [],
      "source": [
        "#converting to dataframe\n",
        "data = pd.DataFrame({\"inputs\":inputs ,\"tags\": tags})"
      ]
    },
    {
      "cell_type": "code",
      "execution_count": null,
      "metadata": {
        "id": "LjpYCMVAUB9I"
      },
      "outputs": [],
      "source": [
        "data"
      ]
    },
    {
      "cell_type": "code",
      "execution_count": null,
      "metadata": {
        "id": "4gCX_LWSVvYb"
      },
      "outputs": [],
      "source": [
        "#Data-Preprocessing\n",
        "#Removing punctuations\n",
        "import string\n",
        "data['inputs'] = data['inputs'].apply(lambda wrd:[ltrs.lower() for ltrs in wrd if ltrs not in string.punctuation])\n",
        "data['inputs'] = data['inputs'].apply(lambda wrd:''.join(wrd))\n",
        "data"
      ]
    },
    {
      "cell_type": "code",
      "execution_count": null,
      "metadata": {
        "id": "vKrZKNUXbKnU"
      },
      "outputs": [],
      "source": [
        "#tockenize the data\n",
        "from tensorflow.keras.preprocessing.text import Tokenizer\n",
        "tokenizer = Tokenizer(num_words=2000)\n",
        "tokenizer.fit_on_texts(data['inputs'])\n",
        "train = tokenizer.texts_to_sequences(data['inputs'])\n",
        "#apply padding\n",
        "from tensorflow.keras.preprocessing.sequence import pad_sequences\n",
        "x_train = pad_sequences(train)\n",
        "#encoding the outputs\n",
        "from sklearn.preprocessing import LabelEncoder\n",
        "le = LabelEncoder()\n",
        "y_train = le.fit_transform(data['tags'])"
      ]
    },
    {
      "cell_type": "code",
      "execution_count": null,
      "metadata": {
        "id": "NFVUxuQjgEKC"
      },
      "outputs": [],
      "source": [
        "input_shape = x_train.shape[1]\n",
        "print(input_shape) "
      ]
    },
    {
      "cell_type": "code",
      "execution_count": null,
      "metadata": {
        "id": "tZ8u1Z12gi1B"
      },
      "outputs": [],
      "source": [
        "#define vocabulary\n",
        "vocabulary= len(tokenizer.word_index)\n",
        "print(\"number of unique words : \", vocabulary)\n",
        "output_length= le.classes_.shape[0]\n",
        "print(\"output length: \", output_length)\n"
      ]
    },
    {
      "cell_type": "code",
      "execution_count": null,
      "metadata": {
        "id": "TQZbIi-ChplC"
      },
      "outputs": [],
      "source": [
        "#Neural Network : creating a model\n",
        "i = Input(shape=(input_shape,))\n",
        "x = Embedding(vocabulary+1 , 10) (i)\n",
        "x = LSTM(10, return_sequences=True)(x)\n",
        "x = Flatten()(x)\n",
        "x = Dense(output_length,activation=\"softmax\")(x)\n",
        "model = Model(i,x)"
      ]
    },
    {
      "cell_type": "code",
      "execution_count": null,
      "metadata": {
        "id": "_do8MBMqifV2"
      },
      "outputs": [],
      "source": [
        "#compiling the model\n",
        "model.compile(loss=\"sparse_categorical_crossentropy\", optimizer='adam',metrics=['accuracy'])"
      ]
    },
    {
      "cell_type": "code",
      "execution_count": null,
      "metadata": {
        "id": "1eBcwtcqjkTD"
      },
      "outputs": [],
      "source": [
        "#training the model\n",
        "train = model.fit(x_train,y_train,epochs=200)"
      ]
    },
    {
      "cell_type": "code",
      "execution_count": null,
      "metadata": {
        "id": "D6QmtajUknrN"
      },
      "outputs": [],
      "source": [
        "#plotting model accuracy\n",
        "plt.plot(train.history['accuracy'],label='training set accuracy')\n",
        "plt.plot(train.history['loss'],label='training set loss')\n",
        "plt.legend"
      ]
    },
    {
      "cell_type": "code",
      "execution_count": null,
      "metadata": {
        "colab": {
          "background_save": true,
          "base_uri": "https://localhost:8080/"
        },
        "id": "nWhTvxpenDQ1",
        "outputId": "b3d87ee3-20fc-4b10-9431-d9c7bfbeea01"
      },
      "outputs": [
        {
          "name": "stdout",
          "output_type": "stream",
          "text": [
            "Groot :  Hello, Welcome to Our IT Chatbot\n",
            "Groot :  Hi there, how can I help?\n",
            "Groot :  Hi there, how can I help?\n"
          ]
        }
      ],
      "source": [
        "\n",
        "import random\n",
        "\n",
        "\n",
        "while True:\n",
        "  texts_p = []\n",
        "  prediction_input = input('You : ')\n",
        "  \n",
        "  #removing punctuation and converting to lowercase\n",
        "  prediction_input = [letters.lower() for letters in prediction_input if letters not in string.punctuation ]\n",
        "  prediction_input = ''.join(prediction_input)\n",
        "  texts_p.append(prediction_input)\n",
        "\n",
        "  #tokenizing and padding\n",
        "  prediction_input = tokenizer.texts_to_sequences(texts_p)\n",
        "  prediction_input = np.array(prediction_input).reshape(-1)\n",
        "  prediction_input = pad_sequences([prediction_input], input_shape)\n",
        "\n",
        "  #getting output from model\n",
        "  output = model.predict(prediction_input)\n",
        "  output = output.argmax()\n",
        "\n",
        "  #finding the right tag andpredicting\n",
        "  response_tag = le.inverse_transform([output])[0]\n",
        "  print(\"Groot : \", random.choice(responses[response_tag]))\n",
        "  if response_tag ==\"goodbye\":\n",
        "    break"
      ]
    }
  ],
  "metadata": {
    "colab": {
      "collapsed_sections": [],
      "name": "Chatbot.ipynb",
      "provenance": [],
      "include_colab_link": true
    },
    "kernelspec": {
      "display_name": "Python 3",
      "name": "python3"
    },
    "language_info": {
      "name": "python"
    }
  },
  "nbformat": 4,
  "nbformat_minor": 0
}